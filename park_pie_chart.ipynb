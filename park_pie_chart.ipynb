{
 "cells": [
  {
   "cell_type": "code",
   "execution_count": 2,
   "id": "91cf5261",
   "metadata": {},
   "outputs": [],
   "source": [
    "import matplotlib.pyplot as plt\n",
    "import pandas as pd\n",
    "df=pd.read_csv(\"exercise_visit.csv\")"
   ]
  },
  {
   "cell_type": "code",
   "execution_count": 3,
   "id": "ab4cb31e",
   "metadata": {},
   "outputs": [],
   "source": [
    "df=df[['자치구별(2)','장소별(1)','2019']]"
   ]
  },
  {
   "cell_type": "code",
   "execution_count": 4,
   "id": "54f6e8c2",
   "metadata": {},
   "outputs": [],
   "source": [
    "df_n=df[:7]"
   ]
  },
  {
   "cell_type": "code",
   "execution_count": 5,
   "id": "d2565c15",
   "metadata": {},
   "outputs": [
    {
     "name": "stderr",
     "output_type": "stream",
     "text": [
      "C:\\Users\\User\\AppData\\Local\\Temp\\ipykernel_29940\\812171779.py:1: SettingWithCopyWarning: \n",
      "A value is trying to be set on a copy of a slice from a DataFrame\n",
      "\n",
      "See the caveats in the documentation: https://pandas.pydata.org/pandas-docs/stable/user_guide/indexing.html#returning-a-view-versus-a-copy\n",
      "  df_n.rename(columns={'자치구별(2)':'region'},inplace=True)\n",
      "C:\\Users\\User\\AppData\\Local\\Temp\\ipykernel_29940\\812171779.py:2: SettingWithCopyWarning: \n",
      "A value is trying to be set on a copy of a slice from a DataFrame\n",
      "\n",
      "See the caveats in the documentation: https://pandas.pydata.org/pandas-docs/stable/user_guide/indexing.html#returning-a-view-versus-a-copy\n",
      "  df_n.rename(columns={'장소별(1)':'Place'},inplace=True)\n",
      "C:\\Users\\User\\AppData\\Local\\Temp\\ipykernel_29940\\812171779.py:3: SettingWithCopyWarning: \n",
      "A value is trying to be set on a copy of a slice from a DataFrame\n",
      "\n",
      "See the caveats in the documentation: https://pandas.pydata.org/pandas-docs/stable/user_guide/indexing.html#returning-a-view-versus-a-copy\n",
      "  df_n.rename(columns={'2019':'percent'},inplace=True)\n"
     ]
    },
    {
     "data": {
      "text/html": [
       "<div>\n",
       "<style scoped>\n",
       "    .dataframe tbody tr th:only-of-type {\n",
       "        vertical-align: middle;\n",
       "    }\n",
       "\n",
       "    .dataframe tbody tr th {\n",
       "        vertical-align: top;\n",
       "    }\n",
       "\n",
       "    .dataframe thead th {\n",
       "        text-align: right;\n",
       "    }\n",
       "</style>\n",
       "<table border=\"1\" class=\"dataframe\">\n",
       "  <thead>\n",
       "    <tr style=\"text-align: right;\">\n",
       "      <th></th>\n",
       "      <th>region</th>\n",
       "      <th>Place</th>\n",
       "      <th>percent</th>\n",
       "    </tr>\n",
       "  </thead>\n",
       "  <tbody>\n",
       "    <tr>\n",
       "      <th>0</th>\n",
       "      <td>소계</td>\n",
       "      <td>공원 및 산 등의 산책로</td>\n",
       "      <td>52.1</td>\n",
       "    </tr>\n",
       "    <tr>\n",
       "      <th>1</th>\n",
       "      <td>소계</td>\n",
       "      <td>민간상업 체육시설</td>\n",
       "      <td>19.1</td>\n",
       "    </tr>\n",
       "    <tr>\n",
       "      <th>2</th>\n",
       "      <td>소계</td>\n",
       "      <td>학교체육시설</td>\n",
       "      <td>6.0</td>\n",
       "    </tr>\n",
       "    <tr>\n",
       "      <th>3</th>\n",
       "      <td>소계</td>\n",
       "      <td>집에서 간단한 운동</td>\n",
       "      <td>12.0</td>\n",
       "    </tr>\n",
       "    <tr>\n",
       "      <th>4</th>\n",
       "      <td>소계</td>\n",
       "      <td>지자체 및 공공기관운영 시설</td>\n",
       "      <td>8.4</td>\n",
       "    </tr>\n",
       "    <tr>\n",
       "      <th>5</th>\n",
       "      <td>소계</td>\n",
       "      <td>직장내 체육시설</td>\n",
       "      <td>2.4</td>\n",
       "    </tr>\n",
       "    <tr>\n",
       "      <th>6</th>\n",
       "      <td>소계</td>\n",
       "      <td>기타</td>\n",
       "      <td>0.1</td>\n",
       "    </tr>\n",
       "  </tbody>\n",
       "</table>\n",
       "</div>"
      ],
      "text/plain": [
       "  region            Place percent\n",
       "0     소계    공원 및 산 등의 산책로    52.1\n",
       "1     소계        민간상업 체육시설    19.1\n",
       "2     소계           학교체육시설     6.0\n",
       "3     소계       집에서 간단한 운동    12.0\n",
       "4     소계  지자체 및 공공기관운영 시설     8.4\n",
       "5     소계         직장내 체육시설     2.4\n",
       "6     소계               기타     0.1"
      ]
     },
     "execution_count": 5,
     "metadata": {},
     "output_type": "execute_result"
    }
   ],
   "source": [
    "df_n.rename(columns={'자치구별(2)':'region'},inplace=True)\n",
    "df_n.rename(columns={'장소별(1)':'Place'},inplace=True)\n",
    "df_n.rename(columns={'2019':'percent'},inplace=True)\n",
    "df_n"
   ]
  },
  {
   "cell_type": "code",
   "execution_count": 6,
   "id": "6dccbb03",
   "metadata": {},
   "outputs": [
    {
     "name": "stderr",
     "output_type": "stream",
     "text": [
      "C:\\Users\\User\\AppData\\Local\\Temp\\ipykernel_29940\\17268077.py:1: SettingWithCopyWarning: \n",
      "A value is trying to be set on a copy of a slice from a DataFrame.\n",
      "Try using .loc[row_indexer,col_indexer] = value instead\n",
      "\n",
      "See the caveats in the documentation: https://pandas.pydata.org/pandas-docs/stable/user_guide/indexing.html#returning-a-view-versus-a-copy\n",
      "  df_n.replace(to_replace={'Place':{'공원 및 산 등의 산책로':'Park','민간상업 체육시설':'private sports facilities','직장내 체육시설':'facilities in workplace','학교체육시설':'facilities in school','집에서 간단한 운동':'home','지자체 및 공공기관운영 시설':'public facilities','기타':'etc'}},inplace=True)\n",
      "C:\\Users\\User\\AppData\\Local\\Temp\\ipykernel_29940\\17268077.py:2: SettingWithCopyWarning: \n",
      "A value is trying to be set on a copy of a slice from a DataFrame.\n",
      "Try using .loc[row_indexer,col_indexer] = value instead\n",
      "\n",
      "See the caveats in the documentation: https://pandas.pydata.org/pandas-docs/stable/user_guide/indexing.html#returning-a-view-versus-a-copy\n",
      "  df_n.replace(to_replace={'region':{'소계':'total'}},inplace=True)\n"
     ]
    },
    {
     "data": {
      "text/html": [
       "<div>\n",
       "<style scoped>\n",
       "    .dataframe tbody tr th:only-of-type {\n",
       "        vertical-align: middle;\n",
       "    }\n",
       "\n",
       "    .dataframe tbody tr th {\n",
       "        vertical-align: top;\n",
       "    }\n",
       "\n",
       "    .dataframe thead th {\n",
       "        text-align: right;\n",
       "    }\n",
       "</style>\n",
       "<table border=\"1\" class=\"dataframe\">\n",
       "  <thead>\n",
       "    <tr style=\"text-align: right;\">\n",
       "      <th></th>\n",
       "      <th>region</th>\n",
       "      <th>Place</th>\n",
       "      <th>percent</th>\n",
       "    </tr>\n",
       "  </thead>\n",
       "  <tbody>\n",
       "    <tr>\n",
       "      <th>0</th>\n",
       "      <td>total</td>\n",
       "      <td>Park</td>\n",
       "      <td>52.1</td>\n",
       "    </tr>\n",
       "    <tr>\n",
       "      <th>1</th>\n",
       "      <td>total</td>\n",
       "      <td>private sports facilities</td>\n",
       "      <td>19.1</td>\n",
       "    </tr>\n",
       "    <tr>\n",
       "      <th>2</th>\n",
       "      <td>total</td>\n",
       "      <td>facilities in school</td>\n",
       "      <td>6.0</td>\n",
       "    </tr>\n",
       "    <tr>\n",
       "      <th>3</th>\n",
       "      <td>total</td>\n",
       "      <td>home</td>\n",
       "      <td>12.0</td>\n",
       "    </tr>\n",
       "    <tr>\n",
       "      <th>4</th>\n",
       "      <td>total</td>\n",
       "      <td>public facilities</td>\n",
       "      <td>8.4</td>\n",
       "    </tr>\n",
       "    <tr>\n",
       "      <th>5</th>\n",
       "      <td>total</td>\n",
       "      <td>facilities in workplace</td>\n",
       "      <td>2.4</td>\n",
       "    </tr>\n",
       "    <tr>\n",
       "      <th>6</th>\n",
       "      <td>total</td>\n",
       "      <td>etc</td>\n",
       "      <td>0.1</td>\n",
       "    </tr>\n",
       "  </tbody>\n",
       "</table>\n",
       "</div>"
      ],
      "text/plain": [
       "  region                      Place percent\n",
       "0  total                       Park    52.1\n",
       "1  total  private sports facilities    19.1\n",
       "2  total       facilities in school     6.0\n",
       "3  total                       home    12.0\n",
       "4  total          public facilities     8.4\n",
       "5  total    facilities in workplace     2.4\n",
       "6  total                        etc     0.1"
      ]
     },
     "execution_count": 6,
     "metadata": {},
     "output_type": "execute_result"
    }
   ],
   "source": [
    "df_n.replace(to_replace={'Place':{'공원 및 산 등의 산책로':'Park','민간상업 체육시설':'private sports facilities','직장내 체육시설':'facilities in workplace','학교체육시설':'facilities in school','집에서 간단한 운동':'home','지자체 및 공공기관운영 시설':'public facilities','기타':'etc'}},inplace=True)                                 \n",
    "df_n.replace(to_replace={'region':{'소계':'total'}},inplace=True) \n",
    "df_n"
   ]
  },
  {
   "cell_type": "code",
   "execution_count": 7,
   "id": "efeef501",
   "metadata": {},
   "outputs": [
    {
     "name": "stderr",
     "output_type": "stream",
     "text": [
      "findfont: Font family ['Nanum Gothic'] not found. Falling back to DejaVu Sans.\n",
      "findfont: Font family ['Nanum Gothic'] not found. Falling back to DejaVu Sans.\n"
     ]
    },
    {
     "data": {
      "image/png": "[encoded data removed]",
      "text/plain": [
       "<Figure size 432x288 with 1 Axes>"
      ]
     },
     "metadata": {},
     "output_type": "display_data"
    }
   ],
   "source": [
    "import matplotlib.pyplot as plt\n",
    "plt.title('exercise visit Ratio')\n",
    "plt.pie(df_n['percent'], labels=df_n['Place'], autopct='%.3f%%')\n",
    "plt.show()"
   ]
  },
  {
   "cell_type": "code",
   "execution_count": null,
   "id": "151e62cf",
   "metadata": {},
   "outputs": [],
   "source": []
  }
 ],
 "metadata": {
  "kernelspec": {
   "display_name": "Python 3 (ipykernel)",
   "language": "python",
   "name": "python3"
  },
  "language_info": {
   "codemirror_mode": {
    "name": "ipython",
    "version": 3
   },
   "file_extension": ".py",
   "mimetype": "text/x-python",
   "name": "python",
   "nbconvert_exporter": "python",
   "pygments_lexer": "ipython3",
   "version": "3.9.12"
  }
 },
 "nbformat": 4,
 "nbformat_minor": 5
}
